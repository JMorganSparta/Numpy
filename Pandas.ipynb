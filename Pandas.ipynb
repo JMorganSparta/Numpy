{
 "cells": [
  {
   "cell_type": "markdown",
   "id": "8c7fd652-4bcd-4a53-965f-6ce731d4d13f",
   "metadata": {},
   "source": [
    "# Intro to Pandas\n",
    "Pandas is a high-level data manipulation package which is built on top of Numpy. Key structures include Series and Dataframes."
   ]
  },
  {
   "cell_type": "markdown",
   "id": "81a74452-3683-408c-bb95-123e482b54ea",
   "metadata": {},
   "source": [
    "## Series\n",
    "A series is a 1d array with access labels (an index)."
   ]
  },
  {
   "cell_type": "code",
   "execution_count": 104,
   "id": "9f2b3ef9-0b5b-41db-ae1c-fa942ad7bbcc",
   "metadata": {},
   "outputs": [],
   "source": [
    "# ensure to import!\n",
    "import numpy as np\n",
    "import pandas as pd\n",
    "#from pandas import Series, DataFrame"
   ]
  },
  {
   "cell_type": "code",
   "execution_count": 5,
   "id": "1fa501a0-1dcd-48a0-ab92-fa7ace46e588",
   "metadata": {},
   "outputs": [
    {
     "data": {
      "text/plain": [
       "0    10\n",
       "1    20\n",
       "2    30\n",
       "3    40\n",
       "4    50\n",
       "dtype: int64"
      ]
     },
     "execution_count": 5,
     "metadata": {},
     "output_type": "execute_result"
    }
   ],
   "source": [
    "# creating a series from a list\n",
    "x=pd.Series([10,20,30,40,50])\n",
    "x"
   ]
  },
  {
   "cell_type": "code",
   "execution_count": 6,
   "id": "782b2580-8b8e-4b0e-aef5-2eeb1b1aaa27",
   "metadata": {},
   "outputs": [
    {
     "data": {
      "text/plain": [
       "RangeIndex(start=0, stop=5, step=1)"
      ]
     },
     "execution_count": 6,
     "metadata": {},
     "output_type": "execute_result"
    }
   ],
   "source": [
    "# accessing different components:\n",
    "# access index\n",
    "x.index"
   ]
  },
  {
   "cell_type": "code",
   "execution_count": 7,
   "id": "1d82d52c-d18d-4e0e-9c3d-7f82d74f3edc",
   "metadata": {},
   "outputs": [
    {
     "data": {
      "text/plain": [
       "array([10, 20, 30, 40, 50])"
      ]
     },
     "execution_count": 7,
     "metadata": {},
     "output_type": "execute_result"
    }
   ],
   "source": [
    "# access values\n",
    "x.values"
   ]
  },
  {
   "cell_type": "code",
   "execution_count": 9,
   "id": "b097e68e-2a88-414c-8ec4-c3944d21d130",
   "metadata": {},
   "outputs": [],
   "source": [
    "# access data type\n",
    "# a series is an ndarray, thus can only have one data type!"
   ]
  },
  {
   "cell_type": "code",
   "execution_count": 10,
   "id": "6ae796fd-c462-44e0-a536-a8254abdcdd7",
   "metadata": {},
   "outputs": [
    {
     "data": {
      "text/plain": [
       "a    450\n",
       "b    650\n",
       "c    720\n",
       "dtype: int64"
      ]
     },
     "execution_count": 10,
     "metadata": {},
     "output_type": "execute_result"
    }
   ],
   "source": [
    "# create a series with indicies\n",
    "data=[450,650,720]\n",
    "Sales=Series(data, index=[\"a\",\"b\",\"c\"])\n",
    "Sales"
   ]
  },
  {
   "cell_type": "code",
   "execution_count": 11,
   "id": "8ef8a95b-9dcd-4bc5-9d49-b1b01893b2fb",
   "metadata": {},
   "outputs": [
    {
     "data": {
      "text/plain": [
       "pandas.core.series.Series"
      ]
     },
     "execution_count": 11,
     "metadata": {},
     "output_type": "execute_result"
    }
   ],
   "source": [
    "# check the type\n",
    "type(Sales)"
   ]
  },
  {
   "cell_type": "code",
   "execution_count": 12,
   "id": "635aef65-7fdc-4aaa-bb15-fd6026337a9b",
   "metadata": {},
   "outputs": [
    {
     "data": {
      "text/plain": [
       "Index(['a', 'b', 'c'], dtype='object')"
      ]
     },
     "execution_count": 12,
     "metadata": {},
     "output_type": "execute_result"
    }
   ],
   "source": [
    "#lets look at the indicies\n",
    "Sales.index"
   ]
  },
  {
   "cell_type": "markdown",
   "id": "caf8cae1-8fd8-466a-9087-2dd9e9d8637a",
   "metadata": {},
   "source": [
    "### Accessing Values\n"
   ]
  },
  {
   "cell_type": "code",
   "execution_count": 13,
   "id": "bd41d64d-a2c5-4910-ab0a-fdfcdc9f6072",
   "metadata": {},
   "outputs": [
    {
     "data": {
      "text/plain": [
       "np.int64(650)"
      ]
     },
     "execution_count": 13,
     "metadata": {},
     "output_type": "execute_result"
    }
   ],
   "source": [
    "# access values using index name\n",
    "Sales[\"b\"]"
   ]
  },
  {
   "cell_type": "markdown",
   "id": "390a31e3-39b4-427d-9368-922016b0cfa6",
   "metadata": {},
   "source": [
    "### Checking for Conditions"
   ]
  },
  {
   "cell_type": "code",
   "execution_count": 16,
   "id": "29ac0a82-9c3c-4697-873e-be94cc1ed373",
   "metadata": {},
   "outputs": [
    {
     "data": {
      "text/plain": [
       "a    False\n",
       "b     True\n",
       "c     True\n",
       "dtype: bool"
      ]
     },
     "execution_count": 16,
     "metadata": {},
     "output_type": "execute_result"
    }
   ],
   "source": [
    "# filter by condition, usualy return booleans\n",
    "Sales>500"
   ]
  },
  {
   "cell_type": "code",
   "execution_count": 17,
   "id": "ec5bf704-1f14-48bd-90e9-dff90620178d",
   "metadata": {},
   "outputs": [
    {
     "data": {
      "text/plain": [
       "b    650\n",
       "c    720\n",
       "dtype: int64"
      ]
     },
     "execution_count": 17,
     "metadata": {},
     "output_type": "execute_result"
    }
   ],
   "source": [
    "# use booleans \n",
    "Sales[[False,True,True]]"
   ]
  },
  {
   "cell_type": "code",
   "execution_count": 18,
   "id": "e0c0489f-6686-45a5-b067-3becd6304eec",
   "metadata": {},
   "outputs": [
    {
     "data": {
      "text/plain": [
       "b    650\n",
       "c    720\n",
       "dtype: int64"
      ]
     },
     "execution_count": 18,
     "metadata": {},
     "output_type": "execute_result"
    }
   ],
   "source": [
    "# if we want to see >500, can use these booleans\n",
    "Sales[Sales>500]"
   ]
  },
  {
   "cell_type": "code",
   "execution_count": 19,
   "id": "707f7976-108b-4d1a-bce7-9f4ea3e1860b",
   "metadata": {},
   "outputs": [
    {
     "data": {
      "text/plain": [
       "True"
      ]
     },
     "execution_count": 19,
     "metadata": {},
     "output_type": "execute_result"
    }
   ],
   "source": [
    "# check if name in index\n",
    "\"c\" in Sales"
   ]
  },
  {
   "cell_type": "code",
   "execution_count": 21,
   "id": "e6fb0378-63ca-4180-b8bb-530368f047d3",
   "metadata": {},
   "outputs": [
    {
     "data": {
      "text/plain": [
       "False"
      ]
     },
     "execution_count": 21,
     "metadata": {},
     "output_type": "execute_result"
    }
   ],
   "source": [
    "450 in Sales\n",
    "# 450 is not index, its value. Thus false"
   ]
  },
  {
   "cell_type": "markdown",
   "id": "bce90eaa-5e22-4652-a01a-80a1d7e6c11b",
   "metadata": {},
   "source": [
    "### Working with Dictionaries"
   ]
  },
  {
   "cell_type": "code",
   "execution_count": 22,
   "id": "d6587cf0-aea9-413a-b050-7c00be26a2d9",
   "metadata": {},
   "outputs": [
    {
     "data": {
      "text/plain": [
       "{'a': 450, 'b': 650, 'c': 720}"
      ]
     },
     "execution_count": 22,
     "metadata": {},
     "output_type": "execute_result"
    }
   ],
   "source": [
    "# converting series to dictionary\n",
    "sales_dict=Sales.to_dict()\n",
    "sales_dict"
   ]
  },
  {
   "cell_type": "code",
   "execution_count": 23,
   "id": "b9934eb4-9fdf-4ff5-b12c-265b9d4679df",
   "metadata": {},
   "outputs": [
    {
     "data": {
      "text/plain": [
       "a    450\n",
       "b    650\n",
       "c    720\n",
       "dtype: int64"
      ]
     },
     "execution_count": 23,
     "metadata": {},
     "output_type": "execute_result"
    }
   ],
   "source": [
    "# converting to dictionary to series\n",
    "sales_ser=Series(sales_dict)\n",
    "sales_ser"
   ]
  },
  {
   "cell_type": "markdown",
   "id": "17cb0825-e8af-41f6-b242-6f017f44f582",
   "metadata": {},
   "source": [
    "### Adding entries and working with null values"
   ]
  },
  {
   "cell_type": "code",
   "execution_count": 25,
   "id": "e98ce323-ce75-4a36-9dd9-e65770a29704",
   "metadata": {},
   "outputs": [
    {
     "data": {
      "text/plain": [
       "a    450.0\n",
       "c    720.0\n",
       "f      NaN\n",
       "z      NaN\n",
       "dtype: float64"
      ]
     },
     "execution_count": 25,
     "metadata": {},
     "output_type": "execute_result"
    }
   ],
   "source": [
    "# create a new series from existing\n",
    "# if we specify in the index that were NOT already, NaN values assigned\n",
    "new_sales=Series(Sales,index=[\"a\",\"c\",\"f\",\"z\"])\n",
    "new_sales"
   ]
  },
  {
   "cell_type": "code",
   "execution_count": 41,
   "id": "41d506b6-0c77-471b-86a1-2b13684f0696",
   "metadata": {},
   "outputs": [
    {
     "data": {
      "text/plain": [
       "a    450.0\n",
       "c    720.0\n",
       "f      NaN\n",
       "z      NaN\n",
       "h    120.0\n",
       "dtype: float64"
      ]
     },
     "execution_count": 41,
     "metadata": {},
     "output_type": "execute_result"
    }
   ],
   "source": [
    "# add values by concat\n",
    "newnew_sales=Series([120],index=[\"h\"])\n",
    "nsales=pd.concat([new_sales,newnew_sales])\n",
    "nsales"
   ]
  },
  {
   "cell_type": "code",
   "execution_count": 49,
   "id": "c3a39082-dcb6-4a2d-a9c0-2f9bab03d543",
   "metadata": {},
   "outputs": [
    {
     "data": {
      "text/plain": [
       "c    720.0\n",
       "f      NaN\n",
       "z      NaN\n",
       "h    120.0\n",
       "dtype: float64"
      ]
     },
     "execution_count": 49,
     "metadata": {},
     "output_type": "execute_result"
    }
   ],
   "source": [
    "# delete values\n",
    "nsales.pop(\"a\")\n",
    "nsales"
   ]
  },
  {
   "cell_type": "code",
   "execution_count": 45,
   "id": "859e13d3-5c8f-4974-bba1-fc65ac7a8530",
   "metadata": {},
   "outputs": [
    {
     "data": {
      "text/plain": [
       "a    False\n",
       "c    False\n",
       "f     True\n",
       "z     True\n",
       "dtype: bool"
      ]
     },
     "execution_count": 45,
     "metadata": {},
     "output_type": "execute_result"
    }
   ],
   "source": [
    "# check if any NaN values in a Series\n",
    "# USE NUMPY\n",
    "np.isnan(new_sales)"
   ]
  },
  {
   "cell_type": "code",
   "execution_count": 28,
   "id": "2c9dea8d-2b65-45c2-a767-3f8182e1e255",
   "metadata": {},
   "outputs": [
    {
     "data": {
      "text/plain": [
       "a    False\n",
       "c    False\n",
       "f     True\n",
       "z     True\n",
       "dtype: bool"
      ]
     },
     "execution_count": 28,
     "metadata": {},
     "output_type": "execute_result"
    }
   ],
   "source": [
    "# check for null values\n",
    "# USE PANDAS\n",
    "pd.isnull(new_sales)"
   ]
  },
  {
   "cell_type": "markdown",
   "id": "b3dcebc1-3240-4401-ba26-be05ed258a80",
   "metadata": {},
   "source": [
    "### Naming components\n"
   ]
  },
  {
   "cell_type": "code",
   "execution_count": 30,
   "id": "e7ef4f3f-1e50-44a0-bc0e-3dfc90233286",
   "metadata": {},
   "outputs": [
    {
     "data": {
      "text/plain": [
       "Sales Person\n",
       "a    450\n",
       "b    650\n",
       "c    720\n",
       "dtype: int64"
      ]
     },
     "execution_count": 30,
     "metadata": {},
     "output_type": "execute_result"
    }
   ],
   "source": [
    "# name an index\n",
    "Sales.index.name=\"Sales Person\"\n",
    "Sales"
   ]
  },
  {
   "cell_type": "code",
   "execution_count": 31,
   "id": "4eccb9f8-aeea-410d-bbf7-36b79cdec442",
   "metadata": {},
   "outputs": [
    {
     "data": {
      "text/plain": [
       "Sales Person\n",
       "a    450\n",
       "b    650\n",
       "c    720\n",
       "Name: Total sales, dtype: int64"
      ]
     },
     "execution_count": 31,
     "metadata": {},
     "output_type": "execute_result"
    }
   ],
   "source": [
    "# name a series\n",
    "Sales.name=\"Total sales\"\n",
    "Sales"
   ]
  },
  {
   "cell_type": "markdown",
   "id": "999fe39e-c9b6-40e7-b6c4-30d5e90ead63",
   "metadata": {},
   "source": [
    "## Data Frames\n",
    "Data frames are 2d, size-mutable, potentionally heterogeneous tabular data structures. This data structure contains TWO labeled axes.\n",
    "\n",
    "### Creating a Dataframe"
   ]
  },
  {
   "cell_type": "code",
   "execution_count": 62,
   "id": "4a19f9d3-d22e-4017-91a9-3d177f397fcb",
   "metadata": {},
   "outputs": [
    {
     "data": {
      "text/html": [
       "<div>\n",
       "<style scoped>\n",
       "    .dataframe tbody tr th:only-of-type {\n",
       "        vertical-align: middle;\n",
       "    }\n",
       "\n",
       "    .dataframe tbody tr th {\n",
       "        vertical-align: top;\n",
       "    }\n",
       "\n",
       "    .dataframe thead th {\n",
       "        text-align: right;\n",
       "    }\n",
       "</style>\n",
       "<table border=\"1\" class=\"dataframe\">\n",
       "  <thead>\n",
       "    <tr style=\"text-align: right;\">\n",
       "      <th></th>\n",
       "      <th>Name</th>\n",
       "      <th>Age</th>\n",
       "    </tr>\n",
       "  </thead>\n",
       "  <tbody>\n",
       "    <tr>\n",
       "      <th>0</th>\n",
       "      <td>a</td>\n",
       "      <td>20</td>\n",
       "    </tr>\n",
       "    <tr>\n",
       "      <th>1</th>\n",
       "      <td>b</td>\n",
       "      <td>23</td>\n",
       "    </tr>\n",
       "    <tr>\n",
       "      <th>2</th>\n",
       "      <td>c</td>\n",
       "      <td>41</td>\n",
       "    </tr>\n",
       "  </tbody>\n",
       "</table>\n",
       "</div>"
      ],
      "text/plain": [
       "  Name  Age\n",
       "0    a   20\n",
       "1    b   23\n",
       "2    c   41"
      ]
     },
     "execution_count": 62,
     "metadata": {},
     "output_type": "execute_result"
    }
   ],
   "source": [
    "# create a DataFrame from list\n",
    "data=[[\"a\",20],[\"b\",23],[\"c\",41]] #this is each row\n",
    "# when a DataFrame is created, we can specify column names and data types\n",
    "df=pd.DataFrame(data,columns=[\"Name\",\"Age\"])\n",
    "df"
   ]
  },
  {
   "cell_type": "code",
   "execution_count": 63,
   "id": "75fde73e-e028-4c35-b168-170f98fe2520",
   "metadata": {},
   "outputs": [
    {
     "data": {
      "text/html": [
       "<div>\n",
       "<style scoped>\n",
       "    .dataframe tbody tr th:only-of-type {\n",
       "        vertical-align: middle;\n",
       "    }\n",
       "\n",
       "    .dataframe tbody tr th {\n",
       "        vertical-align: top;\n",
       "    }\n",
       "\n",
       "    .dataframe thead th {\n",
       "        text-align: right;\n",
       "    }\n",
       "</style>\n",
       "<table border=\"1\" class=\"dataframe\">\n",
       "  <thead>\n",
       "    <tr style=\"text-align: right;\">\n",
       "      <th></th>\n",
       "      <th>Name</th>\n",
       "      <th>Age</th>\n",
       "    </tr>\n",
       "  </thead>\n",
       "  <tbody>\n",
       "    <tr>\n",
       "      <th>0</th>\n",
       "      <td>a</td>\n",
       "      <td>20</td>\n",
       "    </tr>\n",
       "    <tr>\n",
       "      <th>1</th>\n",
       "      <td>b</td>\n",
       "      <td>23</td>\n",
       "    </tr>\n",
       "    <tr>\n",
       "      <th>2</th>\n",
       "      <td>c</td>\n",
       "      <td>41</td>\n",
       "    </tr>\n",
       "  </tbody>\n",
       "</table>\n",
       "</div>"
      ],
      "text/plain": [
       "  Name  Age\n",
       "0    a   20\n",
       "1    b   23\n",
       "2    c   41"
      ]
     },
     "execution_count": 63,
     "metadata": {},
     "output_type": "execute_result"
    }
   ],
   "source": [
    "# create a Dataframe from dictionary\n",
    "data={'Name':['a','b','c'],'Age':[20,23,41]} #this is each column\n",
    "df=pd.DataFrame.from_dict(data)\n",
    "df"
   ]
  },
  {
   "cell_type": "code",
   "execution_count": 56,
   "id": "e2a89426-cfaa-49de-9d84-414103a357bb",
   "metadata": {},
   "outputs": [
    {
     "data": {
      "text/html": [
       "<div>\n",
       "<style scoped>\n",
       "    .dataframe tbody tr th:only-of-type {\n",
       "        vertical-align: middle;\n",
       "    }\n",
       "\n",
       "    .dataframe tbody tr th {\n",
       "        vertical-align: top;\n",
       "    }\n",
       "\n",
       "    .dataframe thead th {\n",
       "        text-align: right;\n",
       "    }\n",
       "</style>\n",
       "<table border=\"1\" class=\"dataframe\">\n",
       "  <thead>\n",
       "    <tr style=\"text-align: right;\">\n",
       "      <th></th>\n",
       "      <th>Name</th>\n",
       "      <th>Age</th>\n",
       "    </tr>\n",
       "  </thead>\n",
       "  <tbody>\n",
       "    <tr>\n",
       "      <th>0</th>\n",
       "      <td>a</td>\n",
       "      <td>20</td>\n",
       "    </tr>\n",
       "    <tr>\n",
       "      <th>1</th>\n",
       "      <td>b</td>\n",
       "      <td>23</td>\n",
       "    </tr>\n",
       "    <tr>\n",
       "      <th>2</th>\n",
       "      <td>c</td>\n",
       "      <td>41</td>\n",
       "    </tr>\n",
       "  </tbody>\n",
       "</table>\n",
       "</div>"
      ],
      "text/plain": [
       "  Name  Age\n",
       "0    a   20\n",
       "1    b   23\n",
       "2    c   41"
      ]
     },
     "execution_count": 56,
     "metadata": {},
     "output_type": "execute_result"
    }
   ],
   "source": [
    "# create a DataFrame from a list of dictionaries:\n",
    "data=[{'Name':\"a\",'Age':20},{'Name':\"b\",'Age':23},{'Name':\"c\",'Age':41}]\n",
    "df=pd.DataFrame(data)\n",
    "df"
   ]
  },
  {
   "cell_type": "code",
   "execution_count": 64,
   "id": "ee34faf2-b3ba-40bd-8885-793b334b6307",
   "metadata": {},
   "outputs": [
    {
     "data": {
      "text/html": [
       "<div>\n",
       "<style scoped>\n",
       "    .dataframe tbody tr th:only-of-type {\n",
       "        vertical-align: middle;\n",
       "    }\n",
       "\n",
       "    .dataframe tbody tr th {\n",
       "        vertical-align: top;\n",
       "    }\n",
       "\n",
       "    .dataframe thead th {\n",
       "        text-align: right;\n",
       "    }\n",
       "</style>\n",
       "<table border=\"1\" class=\"dataframe\">\n",
       "  <thead>\n",
       "    <tr style=\"text-align: right;\">\n",
       "      <th></th>\n",
       "      <th>Name</th>\n",
       "      <th>Age</th>\n",
       "    </tr>\n",
       "  </thead>\n",
       "  <tbody>\n",
       "    <tr>\n",
       "      <th>0</th>\n",
       "      <td>a</td>\n",
       "      <td>20</td>\n",
       "    </tr>\n",
       "    <tr>\n",
       "      <th>1</th>\n",
       "      <td>b</td>\n",
       "      <td>23</td>\n",
       "    </tr>\n",
       "    <tr>\n",
       "      <th>2</th>\n",
       "      <td>c</td>\n",
       "      <td>41</td>\n",
       "    </tr>\n",
       "  </tbody>\n",
       "</table>\n",
       "</div>"
      ],
      "text/plain": [
       "  Name  Age\n",
       "0    a   20\n",
       "1    b   23\n",
       "2    c   41"
      ]
     },
     "execution_count": 64,
     "metadata": {},
     "output_type": "execute_result"
    }
   ],
   "source": [
    "# create a DataFrame from Series, put the series into a dictionary:\n",
    "age=pd.Series([20,23,41],name=\"age\")\n",
    "name=pd.Series([\"a\",\"b\",\"c\"],name=\"Name\")\n",
    "dict={\"Name\":name,\"Age\":age}\n",
    "df=pd.DataFrame(dict)\n",
    "df"
   ]
  },
  {
   "cell_type": "markdown",
   "id": "5df26798-8763-41c8-843b-a2b16d1e5f81",
   "metadata": {},
   "source": [
    "### Adding custom indicies"
   ]
  },
  {
   "cell_type": "code",
   "execution_count": 61,
   "id": "9fa43541-5c63-40c7-92bc-a5c2e167bf8e",
   "metadata": {},
   "outputs": [
    {
     "data": {
      "text/html": [
       "<div>\n",
       "<style scoped>\n",
       "    .dataframe tbody tr th:only-of-type {\n",
       "        vertical-align: middle;\n",
       "    }\n",
       "\n",
       "    .dataframe tbody tr th {\n",
       "        vertical-align: top;\n",
       "    }\n",
       "\n",
       "    .dataframe thead th {\n",
       "        text-align: right;\n",
       "    }\n",
       "</style>\n",
       "<table border=\"1\" class=\"dataframe\">\n",
       "  <thead>\n",
       "    <tr style=\"text-align: right;\">\n",
       "      <th></th>\n",
       "      <th>Name</th>\n",
       "      <th>Age</th>\n",
       "    </tr>\n",
       "  </thead>\n",
       "  <tbody>\n",
       "    <tr>\n",
       "      <th>10</th>\n",
       "      <td>a</td>\n",
       "      <td>20</td>\n",
       "    </tr>\n",
       "    <tr>\n",
       "      <th>20</th>\n",
       "      <td>b</td>\n",
       "      <td>23</td>\n",
       "    </tr>\n",
       "    <tr>\n",
       "      <th>30</th>\n",
       "      <td>c</td>\n",
       "      <td>41</td>\n",
       "    </tr>\n",
       "  </tbody>\n",
       "</table>\n",
       "</div>"
      ],
      "text/plain": [
       "   Name  Age\n",
       "10    a   20\n",
       "20    b   23\n",
       "30    c   41"
      ]
     },
     "execution_count": 61,
     "metadata": {},
     "output_type": "execute_result"
    }
   ],
   "source": [
    "# if adding indicies when inicialising a Data Frame, use index=:\n",
    "data=data=[[\"a\",20],[\"b\",23],[\"c\",41]]\n",
    "df=pd.DataFrame(data,columns=[\"Name\",\"Age\"],index=([10,20,30]))\n",
    "df"
   ]
  },
  {
   "cell_type": "code",
   "execution_count": 55,
   "id": "b6051974-db44-4757-a217-daabae4ab27a",
   "metadata": {},
   "outputs": [
    {
     "data": {
      "text/html": [
       "<div>\n",
       "<style scoped>\n",
       "    .dataframe tbody tr th:only-of-type {\n",
       "        vertical-align: middle;\n",
       "    }\n",
       "\n",
       "    .dataframe tbody tr th {\n",
       "        vertical-align: top;\n",
       "    }\n",
       "\n",
       "    .dataframe thead th {\n",
       "        text-align: right;\n",
       "    }\n",
       "</style>\n",
       "<table border=\"1\" class=\"dataframe\">\n",
       "  <thead>\n",
       "    <tr style=\"text-align: right;\">\n",
       "      <th></th>\n",
       "      <th>Name</th>\n",
       "      <th>Age</th>\n",
       "    </tr>\n",
       "  </thead>\n",
       "  <tbody>\n",
       "    <tr>\n",
       "      <th>a</th>\n",
       "      <td>a</td>\n",
       "      <td>20</td>\n",
       "    </tr>\n",
       "    <tr>\n",
       "      <th>b</th>\n",
       "      <td>b</td>\n",
       "      <td>23</td>\n",
       "    </tr>\n",
       "    <tr>\n",
       "      <th>c</th>\n",
       "      <td>c</td>\n",
       "      <td>41</td>\n",
       "    </tr>\n",
       "  </tbody>\n",
       "</table>\n",
       "</div>"
      ],
      "text/plain": [
       "  Name  Age\n",
       "a    a   20\n",
       "b    b   23\n",
       "c    c   41"
      ]
     },
     "execution_count": 55,
     "metadata": {},
     "output_type": "execute_result"
    }
   ],
   "source": [
    "# if adding to a complete Data Frame, use .index=\n",
    "df.index=[\"a\",\"b\",\"c\"]\n",
    "df"
   ]
  },
  {
   "cell_type": "markdown",
   "id": "7a29bf76-3289-45e0-a1ad-5c11bbdb82f2",
   "metadata": {},
   "source": [
    "### Adding data to existing dataframe"
   ]
  },
  {
   "cell_type": "code",
   "execution_count": 119,
   "id": "680bfe22-2275-4015-808b-52478bd40cfb",
   "metadata": {},
   "outputs": [
    {
     "data": {
      "text/html": [
       "<div>\n",
       "<style scoped>\n",
       "    .dataframe tbody tr th:only-of-type {\n",
       "        vertical-align: middle;\n",
       "    }\n",
       "\n",
       "    .dataframe tbody tr th {\n",
       "        vertical-align: top;\n",
       "    }\n",
       "\n",
       "    .dataframe thead th {\n",
       "        text-align: right;\n",
       "    }\n",
       "</style>\n",
       "<table border=\"1\" class=\"dataframe\">\n",
       "  <thead>\n",
       "    <tr style=\"text-align: right;\">\n",
       "      <th></th>\n",
       "      <th>Name</th>\n",
       "      <th>Age</th>\n",
       "      <th>0</th>\n",
       "    </tr>\n",
       "  </thead>\n",
       "  <tbody>\n",
       "    <tr>\n",
       "      <th>0</th>\n",
       "      <td>a</td>\n",
       "      <td>20</td>\n",
       "      <td>Pass</td>\n",
       "    </tr>\n",
       "    <tr>\n",
       "      <th>1</th>\n",
       "      <td>b</td>\n",
       "      <td>23</td>\n",
       "      <td>Pass</td>\n",
       "    </tr>\n",
       "    <tr>\n",
       "      <th>2</th>\n",
       "      <td>c</td>\n",
       "      <td>41</td>\n",
       "      <td>Fail</td>\n",
       "    </tr>\n",
       "  </tbody>\n",
       "</table>\n",
       "</div>"
      ],
      "text/plain": [
       "  Name  Age     0\n",
       "0    a   20  Pass\n",
       "1    b   23  Pass\n",
       "2    c   41  Fail"
      ]
     },
     "execution_count": 119,
     "metadata": {},
     "output_type": "execute_result"
    }
   ],
   "source": [
    "# adding a series as a column, use .concat:\n",
    "data=[[\"a\",20],[\"b\",23],[\"c\",41]]\n",
    "df=pd.DataFrame(data,columns=[\"Name\",\"Age\"])\n",
    "result=pd.Series([\"Pass\",\"Pass\",\"Fail\"])\n",
    "df=pd.concat([df,result],axis=1)\n",
    "df"
   ]
  },
  {
   "cell_type": "markdown",
   "id": "f3fb69d8-ede9-4e95-93f8-aa2fec3bf479",
   "metadata": {},
   "source": [
    "### Setting an index\n",
    "Sometimes we want to use a specific column or array for the index.\n"
   ]
  },
  {
   "cell_type": "code",
   "execution_count": 117,
   "id": "f28ad016-e8a7-451b-a8ea-112a0b4ddad6",
   "metadata": {},
   "outputs": [
    {
     "data": {
      "text/html": [
       "<div>\n",
       "<style scoped>\n",
       "    .dataframe tbody tr th:only-of-type {\n",
       "        vertical-align: middle;\n",
       "    }\n",
       "\n",
       "    .dataframe tbody tr th {\n",
       "        vertical-align: top;\n",
       "    }\n",
       "\n",
       "    .dataframe thead th {\n",
       "        text-align: right;\n",
       "    }\n",
       "</style>\n",
       "<table border=\"1\" class=\"dataframe\">\n",
       "  <thead>\n",
       "    <tr style=\"text-align: right;\">\n",
       "      <th></th>\n",
       "      <th>Age</th>\n",
       "    </tr>\n",
       "    <tr>\n",
       "      <th>Name</th>\n",
       "      <th></th>\n",
       "    </tr>\n",
       "  </thead>\n",
       "  <tbody>\n",
       "    <tr>\n",
       "      <th>a</th>\n",
       "      <td>20</td>\n",
       "    </tr>\n",
       "    <tr>\n",
       "      <th>b</th>\n",
       "      <td>23</td>\n",
       "    </tr>\n",
       "    <tr>\n",
       "      <th>c</th>\n",
       "      <td>41</td>\n",
       "    </tr>\n",
       "  </tbody>\n",
       "</table>\n",
       "</div>"
      ],
      "text/plain": [
       "      Age\n",
       "Name     \n",
       "a      20\n",
       "b      23\n",
       "c      41"
      ]
     },
     "execution_count": 117,
     "metadata": {},
     "output_type": "execute_result"
    }
   ],
   "source": [
    "# putting a column as an index:\n",
    "data=[[\"a\",20],[\"b\",23],[\"c\",41]]\n",
    "df=pd.DataFrame(data,columns=[\"Name\",\"Age\"])\n",
    "df=df.set_index(\"Name\")\n",
    "df"
   ]
  },
  {
   "cell_type": "code",
   "execution_count": 125,
   "id": "0a38e25c-0f67-46ea-b7b0-554acfd9936e",
   "metadata": {},
   "outputs": [
    {
     "data": {
      "text/html": [
       "<div>\n",
       "<style scoped>\n",
       "    .dataframe tbody tr th:only-of-type {\n",
       "        vertical-align: middle;\n",
       "    }\n",
       "\n",
       "    .dataframe tbody tr th {\n",
       "        vertical-align: top;\n",
       "    }\n",
       "\n",
       "    .dataframe thead th {\n",
       "        text-align: right;\n",
       "    }\n",
       "</style>\n",
       "<table border=\"1\" class=\"dataframe\">\n",
       "  <thead>\n",
       "    <tr style=\"text-align: right;\">\n",
       "      <th></th>\n",
       "      <th>Name</th>\n",
       "      <th>Age</th>\n",
       "    </tr>\n",
       "  </thead>\n",
       "  <tbody>\n",
       "    <tr>\n",
       "      <th>2</th>\n",
       "      <td>a</td>\n",
       "      <td>20</td>\n",
       "    </tr>\n",
       "    <tr>\n",
       "      <th>3</th>\n",
       "      <td>b</td>\n",
       "      <td>23</td>\n",
       "    </tr>\n",
       "    <tr>\n",
       "      <th>7</th>\n",
       "      <td>c</td>\n",
       "      <td>41</td>\n",
       "    </tr>\n",
       "  </tbody>\n",
       "</table>\n",
       "</div>"
      ],
      "text/plain": [
       "  Name  Age\n",
       "2    a   20\n",
       "3    b   23\n",
       "7    c   41"
      ]
     },
     "execution_count": 125,
     "metadata": {},
     "output_type": "execute_result"
    }
   ],
   "source": [
    "# introducing a new index:\n",
    "df=df.set_index([pd.Index([2, 3, 7])])\n",
    "df"
   ]
  },
  {
   "cell_type": "code",
   "execution_count": 128,
   "id": "de43c8bf-f1cd-4fab-980e-c0cebaaab686",
   "metadata": {},
   "outputs": [
    {
     "data": {
      "text/html": [
       "<div>\n",
       "<style scoped>\n",
       "    .dataframe tbody tr th:only-of-type {\n",
       "        vertical-align: middle;\n",
       "    }\n",
       "\n",
       "    .dataframe tbody tr th {\n",
       "        vertical-align: top;\n",
       "    }\n",
       "\n",
       "    .dataframe thead th {\n",
       "        text-align: right;\n",
       "    }\n",
       "</style>\n",
       "<table border=\"1\" class=\"dataframe\">\n",
       "  <thead>\n",
       "    <tr style=\"text-align: right;\">\n",
       "      <th></th>\n",
       "      <th>Name</th>\n",
       "      <th>Age</th>\n",
       "    </tr>\n",
       "  </thead>\n",
       "  <tbody>\n",
       "    <tr>\n",
       "      <th>1</th>\n",
       "      <td>a</td>\n",
       "      <td>20</td>\n",
       "    </tr>\n",
       "    <tr>\n",
       "      <th>4</th>\n",
       "      <td>b</td>\n",
       "      <td>23</td>\n",
       "    </tr>\n",
       "    <tr>\n",
       "      <th>9</th>\n",
       "      <td>c</td>\n",
       "      <td>41</td>\n",
       "    </tr>\n",
       "  </tbody>\n",
       "</table>\n",
       "</div>"
      ],
      "text/plain": [
       "  Name  Age\n",
       "1    a   20\n",
       "4    b   23\n",
       "9    c   41"
      ]
     },
     "execution_count": 128,
     "metadata": {},
     "output_type": "execute_result"
    }
   ],
   "source": [
    "# set an functional index\n",
    "# putting a column as an index:\n",
    "data=[[\"a\",20],[\"b\",23],[\"c\",41]]\n",
    "s = pd.Series([1, 2, 3])\n",
    "df=pd.DataFrame(data,columns=[\"Name\",\"Age\"])\n",
    "df=df.set_index([s**2])\n",
    "df"
   ]
  },
  {
   "cell_type": "markdown",
   "id": "8570f6ef-ef2f-4fa5-ab4d-0b05983a3fc3",
   "metadata": {},
   "source": [
    "### Filling in missing data\n"
   ]
  },
  {
   "cell_type": "code",
   "execution_count": 129,
   "id": "26f7d499-7a88-4892-b4d1-0c33f3544632",
   "metadata": {},
   "outputs": [
    {
     "data": {
      "text/html": [
       "<div>\n",
       "<style scoped>\n",
       "    .dataframe tbody tr th:only-of-type {\n",
       "        vertical-align: middle;\n",
       "    }\n",
       "\n",
       "    .dataframe tbody tr th {\n",
       "        vertical-align: top;\n",
       "    }\n",
       "\n",
       "    .dataframe thead th {\n",
       "        text-align: right;\n",
       "    }\n",
       "</style>\n",
       "<table border=\"1\" class=\"dataframe\">\n",
       "  <thead>\n",
       "    <tr style=\"text-align: right;\">\n",
       "      <th></th>\n",
       "      <th>First Score</th>\n",
       "      <th>Second Score</th>\n",
       "      <th>Third Score</th>\n",
       "    </tr>\n",
       "  </thead>\n",
       "  <tbody>\n",
       "    <tr>\n",
       "      <th>0</th>\n",
       "      <td>100.0</td>\n",
       "      <td>30.0</td>\n",
       "      <td>0.0</td>\n",
       "    </tr>\n",
       "    <tr>\n",
       "      <th>1</th>\n",
       "      <td>90.0</td>\n",
       "      <td>45.0</td>\n",
       "      <td>40.0</td>\n",
       "    </tr>\n",
       "    <tr>\n",
       "      <th>2</th>\n",
       "      <td>0.0</td>\n",
       "      <td>56.0</td>\n",
       "      <td>80.0</td>\n",
       "    </tr>\n",
       "    <tr>\n",
       "      <th>3</th>\n",
       "      <td>95.0</td>\n",
       "      <td>0.0</td>\n",
       "      <td>98.0</td>\n",
       "    </tr>\n",
       "  </tbody>\n",
       "</table>\n",
       "</div>"
      ],
      "text/plain": [
       "   First Score  Second Score  Third Score\n",
       "0        100.0          30.0          0.0\n",
       "1         90.0          45.0         40.0\n",
       "2          0.0          56.0         80.0\n",
       "3         95.0           0.0         98.0"
      ]
     },
     "execution_count": 129,
     "metadata": {},
     "output_type": "execute_result"
    }
   ],
   "source": [
    "# fill any NaN with specific number, use .fillna\n",
    "dict = {'First Score': [100, 90, np.nan, 95],\n",
    "        'Second Score': [30, 45, 56, np.nan],\n",
    "        'Third Score': [np.nan, 40, 80, 98]}\n",
    "df = pd.DataFrame(dict)\n",
    "df.fillna(0)"
   ]
  },
  {
   "cell_type": "code",
   "execution_count": 131,
   "id": "59deab94-8040-451b-acf0-2c3b1e7cbc03",
   "metadata": {},
   "outputs": [
    {
     "name": "stderr",
     "output_type": "stream",
     "text": [
      "C:\\Users\\jimmo\\AppData\\Local\\Temp\\ipykernel_7332\\256100523.py:6: FutureWarning: DataFrame.fillna with 'method' is deprecated and will raise in a future version. Use obj.ffill() or obj.bfill() instead.\n",
      "  df.fillna(method='ffill')\n"
     ]
    },
    {
     "data": {
      "text/html": [
       "<div>\n",
       "<style scoped>\n",
       "    .dataframe tbody tr th:only-of-type {\n",
       "        vertical-align: middle;\n",
       "    }\n",
       "\n",
       "    .dataframe tbody tr th {\n",
       "        vertical-align: top;\n",
       "    }\n",
       "\n",
       "    .dataframe thead th {\n",
       "        text-align: right;\n",
       "    }\n",
       "</style>\n",
       "<table border=\"1\" class=\"dataframe\">\n",
       "  <thead>\n",
       "    <tr style=\"text-align: right;\">\n",
       "      <th></th>\n",
       "      <th>First Score</th>\n",
       "      <th>Second Score</th>\n",
       "      <th>Third Score</th>\n",
       "    </tr>\n",
       "  </thead>\n",
       "  <tbody>\n",
       "    <tr>\n",
       "      <th>0</th>\n",
       "      <td>100.0</td>\n",
       "      <td>30.0</td>\n",
       "      <td>NaN</td>\n",
       "    </tr>\n",
       "    <tr>\n",
       "      <th>1</th>\n",
       "      <td>90.0</td>\n",
       "      <td>45.0</td>\n",
       "      <td>40.0</td>\n",
       "    </tr>\n",
       "    <tr>\n",
       "      <th>2</th>\n",
       "      <td>90.0</td>\n",
       "      <td>56.0</td>\n",
       "      <td>80.0</td>\n",
       "    </tr>\n",
       "    <tr>\n",
       "      <th>3</th>\n",
       "      <td>95.0</td>\n",
       "      <td>56.0</td>\n",
       "      <td>98.0</td>\n",
       "    </tr>\n",
       "  </tbody>\n",
       "</table>\n",
       "</div>"
      ],
      "text/plain": [
       "   First Score  Second Score  Third Score\n",
       "0        100.0          30.0          NaN\n",
       "1         90.0          45.0         40.0\n",
       "2         90.0          56.0         80.0\n",
       "3         95.0          56.0         98.0"
      ]
     },
     "execution_count": 131,
     "metadata": {},
     "output_type": "execute_result"
    }
   ],
   "source": [
    "# fill any NaN with one above, use .fillna(method='ffill') [below is 'bfill']\n",
    "dict = {'First Score': [100, 90, np.nan, 95],\n",
    "        'Second Score': [30, 45, 56, np.nan],\n",
    "        'Third Score': [np.nan, 40, 80, 98]}\n",
    "df = pd.DataFrame(dict)\n",
    "df.fillna(method='ffill')"
   ]
  },
  {
   "cell_type": "code",
   "execution_count": 133,
   "id": "0f0ab396-29d2-442b-bb4a-04f1035a7ca5",
   "metadata": {},
   "outputs": [
    {
     "data": {
      "text/html": [
       "<div>\n",
       "<style scoped>\n",
       "    .dataframe tbody tr th:only-of-type {\n",
       "        vertical-align: middle;\n",
       "    }\n",
       "\n",
       "    .dataframe tbody tr th {\n",
       "        vertical-align: top;\n",
       "    }\n",
       "\n",
       "    .dataframe thead th {\n",
       "        text-align: right;\n",
       "    }\n",
       "</style>\n",
       "<table border=\"1\" class=\"dataframe\">\n",
       "  <thead>\n",
       "    <tr style=\"text-align: right;\">\n",
       "      <th></th>\n",
       "      <th>A</th>\n",
       "      <th>B</th>\n",
       "      <th>C</th>\n",
       "    </tr>\n",
       "  </thead>\n",
       "  <tbody>\n",
       "    <tr>\n",
       "      <th>0</th>\n",
       "      <td>1.0</td>\n",
       "      <td>5.0</td>\n",
       "      <td>9</td>\n",
       "    </tr>\n",
       "    <tr>\n",
       "      <th>1</th>\n",
       "      <td>2.0</td>\n",
       "      <td>6.0</td>\n",
       "      <td>10</td>\n",
       "    </tr>\n",
       "    <tr>\n",
       "      <th>2</th>\n",
       "      <td>3.0</td>\n",
       "      <td>7.0</td>\n",
       "      <td>11</td>\n",
       "    </tr>\n",
       "    <tr>\n",
       "      <th>3</th>\n",
       "      <td>4.0</td>\n",
       "      <td>8.0</td>\n",
       "      <td>12</td>\n",
       "    </tr>\n",
       "  </tbody>\n",
       "</table>\n",
       "</div>"
      ],
      "text/plain": [
       "     A    B   C\n",
       "0  1.0  5.0   9\n",
       "1  2.0  6.0  10\n",
       "2  3.0  7.0  11\n",
       "3  4.0  8.0  12"
      ]
     },
     "execution_count": 133,
     "metadata": {},
     "output_type": "execute_result"
    }
   ],
   "source": [
    "# we can also interpolate any missing data: ie educated guess\n",
    "df = pd.DataFrame({ \n",
    "    'A': [1, 2, np.nan, 4], \n",
    "    'B': [5, np.nan, np.nan, 8], \n",
    "    'C': [9, 10, 11, 12] \n",
    "})\n",
    "df.interpolate()"
   ]
  },
  {
   "cell_type": "markdown",
   "id": "a37b052a-5af4-4bb3-8294-fdb19e32344e",
   "metadata": {},
   "source": [
    "### Dropping from a dataframe"
   ]
  },
  {
   "cell_type": "code",
   "execution_count": 139,
   "id": "abe31f8c-1edd-4783-a5d6-f822bcb3b27a",
   "metadata": {},
   "outputs": [
    {
     "data": {
      "text/html": [
       "<div>\n",
       "<style scoped>\n",
       "    .dataframe tbody tr th:only-of-type {\n",
       "        vertical-align: middle;\n",
       "    }\n",
       "\n",
       "    .dataframe tbody tr th {\n",
       "        vertical-align: top;\n",
       "    }\n",
       "\n",
       "    .dataframe thead th {\n",
       "        text-align: right;\n",
       "    }\n",
       "</style>\n",
       "<table border=\"1\" class=\"dataframe\">\n",
       "  <thead>\n",
       "    <tr style=\"text-align: right;\">\n",
       "      <th></th>\n",
       "      <th>name</th>\n",
       "      <th>age</th>\n",
       "      <th>qualified</th>\n",
       "    </tr>\n",
       "  </thead>\n",
       "  <tbody>\n",
       "    <tr>\n",
       "      <th>1</th>\n",
       "      <td>Mary</td>\n",
       "      <td>40</td>\n",
       "      <td>False</td>\n",
       "    </tr>\n",
       "    <tr>\n",
       "      <th>2</th>\n",
       "      <td>John</td>\n",
       "      <td>30</td>\n",
       "      <td>False</td>\n",
       "    </tr>\n",
       "  </tbody>\n",
       "</table>\n",
       "</div>"
      ],
      "text/plain": [
       "   name  age  qualified\n",
       "1  Mary   40      False\n",
       "2  John   30      False"
      ]
     },
     "execution_count": 139,
     "metadata": {},
     "output_type": "execute_result"
    }
   ],
   "source": [
    "# dropping an entire row, use .drop(index)\n",
    "data = {\n",
    "  \"name\": [\"Sally\", \"Mary\", \"John\"],\n",
    "  \"age\": [50, 40, 30],\n",
    "  \"qualified\": [True, False, False]\n",
    "}\n",
    "df = pd.DataFrame(data)\n",
    "df.drop(0)"
   ]
  },
  {
   "cell_type": "code",
   "execution_count": 138,
   "id": "002c994c-c143-4ff9-80cd-243eec7b5641",
   "metadata": {},
   "outputs": [
    {
     "data": {
      "text/html": [
       "<div>\n",
       "<style scoped>\n",
       "    .dataframe tbody tr th:only-of-type {\n",
       "        vertical-align: middle;\n",
       "    }\n",
       "\n",
       "    .dataframe tbody tr th {\n",
       "        vertical-align: top;\n",
       "    }\n",
       "\n",
       "    .dataframe thead th {\n",
       "        text-align: right;\n",
       "    }\n",
       "</style>\n",
       "<table border=\"1\" class=\"dataframe\">\n",
       "  <thead>\n",
       "    <tr style=\"text-align: right;\">\n",
       "      <th></th>\n",
       "      <th>name</th>\n",
       "      <th>qualified</th>\n",
       "    </tr>\n",
       "  </thead>\n",
       "  <tbody>\n",
       "    <tr>\n",
       "      <th>0</th>\n",
       "      <td>Sally</td>\n",
       "      <td>True</td>\n",
       "    </tr>\n",
       "    <tr>\n",
       "      <th>1</th>\n",
       "      <td>Mary</td>\n",
       "      <td>False</td>\n",
       "    </tr>\n",
       "    <tr>\n",
       "      <th>2</th>\n",
       "      <td>John</td>\n",
       "      <td>False</td>\n",
       "    </tr>\n",
       "  </tbody>\n",
       "</table>\n",
       "</div>"
      ],
      "text/plain": [
       "    name  qualified\n",
       "0  Sally       True\n",
       "1   Mary      False\n",
       "2   John      False"
      ]
     },
     "execution_count": 138,
     "metadata": {},
     "output_type": "execute_result"
    }
   ],
   "source": [
    "# dropping an entire column, ensure to add axis='columns'\n",
    "data = {\n",
    "  \"name\": [\"Sally\", \"Mary\", \"John\"],\n",
    "  \"age\": [50, 40, 30],\n",
    "  \"qualified\": [True, False, False]\n",
    "}\n",
    "df = pd.DataFrame(data)\n",
    "df.drop(\"age\", axis='columns')"
   ]
  },
  {
   "cell_type": "code",
   "execution_count": 141,
   "id": "84c5c1d4-1e8a-4b77-bdf2-5bd4a6e8d301",
   "metadata": {},
   "outputs": [
    {
     "data": {
      "text/html": [
       "<div>\n",
       "<style scoped>\n",
       "    .dataframe tbody tr th:only-of-type {\n",
       "        vertical-align: middle;\n",
       "    }\n",
       "\n",
       "    .dataframe tbody tr th {\n",
       "        vertical-align: top;\n",
       "    }\n",
       "\n",
       "    .dataframe thead th {\n",
       "        text-align: right;\n",
       "    }\n",
       "</style>\n",
       "<table border=\"1\" class=\"dataframe\">\n",
       "  <thead>\n",
       "    <tr style=\"text-align: right;\">\n",
       "      <th></th>\n",
       "      <th>name</th>\n",
       "      <th>age</th>\n",
       "      <th>qualified</th>\n",
       "    </tr>\n",
       "  </thead>\n",
       "  <tbody>\n",
       "    <tr>\n",
       "      <th>0</th>\n",
       "      <td>Sally</td>\n",
       "      <td>50</td>\n",
       "      <td>True</td>\n",
       "    </tr>\n",
       "  </tbody>\n",
       "</table>\n",
       "</div>"
      ],
      "text/plain": [
       "    name  age  qualified\n",
       "0  Sally   50       True"
      ]
     },
     "execution_count": 141,
     "metadata": {},
     "output_type": "execute_result"
    }
   ],
   "source": [
    "# dropping given a condition, we will use a boolean mask:\n",
    "data = {\n",
    "  \"name\": [\"Sally\", \"Mary\", \"John\"],\n",
    "  \"age\": [50, 40, 30],\n",
    "  \"qualified\": [True, False, False]\n",
    "}\n",
    "df = pd.DataFrame(data)\n",
    "mask=df['qualified']==False # selected all ones where qualified is false\n",
    "df[~mask] #selects all in dataframe that arent in the mask"
   ]
  },
  {
   "cell_type": "markdown",
   "id": "9f4ef67f-198e-4a59-b7b8-bd240d7222ea",
   "metadata": {},
   "source": [
    "### Dealing with duplication\n",
    "There are times where duplicates need to either be dropped or found."
   ]
  },
  {
   "cell_type": "code",
   "execution_count": 143,
   "id": "db52856f-3e67-45f3-96e2-955aa75dbaa5",
   "metadata": {},
   "outputs": [
    {
     "data": {
      "text/html": [
       "<div>\n",
       "<style scoped>\n",
       "    .dataframe tbody tr th:only-of-type {\n",
       "        vertical-align: middle;\n",
       "    }\n",
       "\n",
       "    .dataframe tbody tr th {\n",
       "        vertical-align: top;\n",
       "    }\n",
       "\n",
       "    .dataframe thead th {\n",
       "        text-align: right;\n",
       "    }\n",
       "</style>\n",
       "<table border=\"1\" class=\"dataframe\">\n",
       "  <thead>\n",
       "    <tr style=\"text-align: right;\">\n",
       "      <th></th>\n",
       "      <th>Name</th>\n",
       "      <th>Age</th>\n",
       "      <th>City</th>\n",
       "    </tr>\n",
       "  </thead>\n",
       "  <tbody>\n",
       "    <tr>\n",
       "      <th>0</th>\n",
       "      <td>Alice</td>\n",
       "      <td>25</td>\n",
       "      <td>NY</td>\n",
       "    </tr>\n",
       "    <tr>\n",
       "      <th>1</th>\n",
       "      <td>Bob</td>\n",
       "      <td>30</td>\n",
       "      <td>LA</td>\n",
       "    </tr>\n",
       "    <tr>\n",
       "      <th>3</th>\n",
       "      <td>David</td>\n",
       "      <td>40</td>\n",
       "      <td>Chicago</td>\n",
       "    </tr>\n",
       "  </tbody>\n",
       "</table>\n",
       "</div>"
      ],
      "text/plain": [
       "    Name  Age     City\n",
       "0  Alice   25       NY\n",
       "1    Bob   30       LA\n",
       "3  David   40  Chicago"
      ]
     },
     "execution_count": 143,
     "metadata": {},
     "output_type": "execute_result"
    }
   ],
   "source": [
    "# dropping any duplicates, use .drop_duplicates(subset=['column']):\n",
    "df = pd.DataFrame({\n",
    "    'Name': ['Alice', 'Bob', 'Alice', 'David'],\n",
    "    'Age': [25, 30, 25, 40],\n",
    "    'City': ['NY', 'LA', 'SF', 'Chicago']\n",
    "})\n",
    "df.drop_duplicates(subset=['Name'])"
   ]
  },
  {
   "cell_type": "code",
   "execution_count": 145,
   "id": "8eb894e1-103d-45f1-b45f-61fd09955065",
   "metadata": {},
   "outputs": [
    {
     "data": {
      "text/plain": [
       "0    False\n",
       "1    False\n",
       "2     True\n",
       "3    False\n",
       "dtype: bool"
      ]
     },
     "execution_count": 145,
     "metadata": {},
     "output_type": "execute_result"
    }
   ],
   "source": [
    "# finding duplicates, use .duplicated\n",
    "df.duplicated(subset=[\"Name\"])"
   ]
  },
  {
   "cell_type": "markdown",
   "id": "d2f1b218-3fe4-4df4-8ef3-842581fd80c3",
   "metadata": {},
   "source": [
    "### Selecting data in a dataframe\n"
   ]
  },
  {
   "cell_type": "code",
   "execution_count": 146,
   "id": "3bf7e1eb-aaa4-4e88-b9fc-010bf1f2c240",
   "metadata": {},
   "outputs": [
    {
     "data": {
      "text/plain": [
       "0    Alice\n",
       "1      Bob\n",
       "2    Alice\n",
       "3    David\n",
       "Name: Name, dtype: object"
      ]
     },
     "execution_count": 146,
     "metadata": {},
     "output_type": "execute_result"
    }
   ],
   "source": [
    "# to look in a specific column\n",
    "df['Name']"
   ]
  },
  {
   "cell_type": "code",
   "execution_count": null,
   "id": "2584c6a1-405d-4993-aaf9-774cd06e2013",
   "metadata": {},
   "outputs": [],
   "source": [
    "# look for a "
   ]
  }
 ],
 "metadata": {
  "kernelspec": {
   "display_name": "Python 3 (ipykernel)",
   "language": "python",
   "name": "python3"
  },
  "language_info": {
   "codemirror_mode": {
    "name": "ipython",
    "version": 3
   },
   "file_extension": ".py",
   "mimetype": "text/x-python",
   "name": "python",
   "nbconvert_exporter": "python",
   "pygments_lexer": "ipython3",
   "version": "3.13.1"
  }
 },
 "nbformat": 4,
 "nbformat_minor": 5
}
