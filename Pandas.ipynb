{
 "cells": [
  {
   "cell_type": "markdown",
   "id": "8c7fd652-4bcd-4a53-965f-6ce731d4d13f",
   "metadata": {},
   "source": [
    "# Intro to Pandas\n",
    "Pandas is a high-level data manipulation package which is built on top of Numpy. Key structures include Series and Dataframes."
   ]
  },
  {
   "cell_type": "markdown",
   "id": "81a74452-3683-408c-bb95-123e482b54ea",
   "metadata": {},
   "source": [
    "## Series\n",
    "A series is a 1d array with access labels (an index)."
   ]
  },
  {
   "cell_type": "code",
   "execution_count": 3,
   "id": "9f2b3ef9-0b5b-41db-ae1c-fa942ad7bbcc",
   "metadata": {},
   "outputs": [],
   "source": [
    "# ensure to import!\n",
    "import numpy as np\n",
    "import pandas as pd\n",
    "from pandas import Series, DataFrame"
   ]
  },
  {
   "cell_type": "code",
   "execution_count": 5,
   "id": "1fa501a0-1dcd-48a0-ab92-fa7ace46e588",
   "metadata": {},
   "outputs": [
    {
     "data": {
      "text/plain": [
       "0    10\n",
       "1    20\n",
       "2    30\n",
       "3    40\n",
       "4    50\n",
       "dtype: int64"
      ]
     },
     "execution_count": 5,
     "metadata": {},
     "output_type": "execute_result"
    }
   ],
   "source": [
    "# creating a series from a list\n",
    "x=pd.Series([10,20,30,40,50])\n",
    "x"
   ]
  },
  {
   "cell_type": "code",
   "execution_count": 6,
   "id": "782b2580-8b8e-4b0e-aef5-2eeb1b1aaa27",
   "metadata": {},
   "outputs": [
    {
     "data": {
      "text/plain": [
       "RangeIndex(start=0, stop=5, step=1)"
      ]
     },
     "execution_count": 6,
     "metadata": {},
     "output_type": "execute_result"
    }
   ],
   "source": [
    "# accessing different components:\n",
    "# access index\n",
    "x.index"
   ]
  },
  {
   "cell_type": "code",
   "execution_count": 7,
   "id": "1d82d52c-d18d-4e0e-9c3d-7f82d74f3edc",
   "metadata": {},
   "outputs": [
    {
     "data": {
      "text/plain": [
       "array([10, 20, 30, 40, 50])"
      ]
     },
     "execution_count": 7,
     "metadata": {},
     "output_type": "execute_result"
    }
   ],
   "source": [
    "# access values\n",
    "x.values"
   ]
  },
  {
   "cell_type": "code",
   "execution_count": 9,
   "id": "b097e68e-2a88-414c-8ec4-c3944d21d130",
   "metadata": {},
   "outputs": [],
   "source": [
    "# access data type\n",
    "# a series is an ndarray, thus can only have one data type!"
   ]
  },
  {
   "cell_type": "code",
   "execution_count": 10,
   "id": "6ae796fd-c462-44e0-a536-a8254abdcdd7",
   "metadata": {},
   "outputs": [
    {
     "data": {
      "text/plain": [
       "a    450\n",
       "b    650\n",
       "c    720\n",
       "dtype: int64"
      ]
     },
     "execution_count": 10,
     "metadata": {},
     "output_type": "execute_result"
    }
   ],
   "source": [
    "# create a series with indicies\n",
    "data=[450,650,720]\n",
    "Sales=Series(data, index=[\"a\",\"b\",\"c\"])\n",
    "Sales"
   ]
  },
  {
   "cell_type": "code",
   "execution_count": 11,
   "id": "8ef8a95b-9dcd-4bc5-9d49-b1b01893b2fb",
   "metadata": {},
   "outputs": [
    {
     "data": {
      "text/plain": [
       "pandas.core.series.Series"
      ]
     },
     "execution_count": 11,
     "metadata": {},
     "output_type": "execute_result"
    }
   ],
   "source": [
    "# check the type\n",
    "type(Sales)"
   ]
  },
  {
   "cell_type": "code",
   "execution_count": 12,
   "id": "635aef65-7fdc-4aaa-bb15-fd6026337a9b",
   "metadata": {},
   "outputs": [
    {
     "data": {
      "text/plain": [
       "Index(['a', 'b', 'c'], dtype='object')"
      ]
     },
     "execution_count": 12,
     "metadata": {},
     "output_type": "execute_result"
    }
   ],
   "source": [
    "#lets look at the indicies\n",
    "Sales.index"
   ]
  },
  {
   "cell_type": "markdown",
   "id": "caf8cae1-8fd8-466a-9087-2dd9e9d8637a",
   "metadata": {},
   "source": [
    "### Accessing Values\n"
   ]
  },
  {
   "cell_type": "code",
   "execution_count": 13,
   "id": "bd41d64d-a2c5-4910-ab0a-fdfcdc9f6072",
   "metadata": {},
   "outputs": [
    {
     "data": {
      "text/plain": [
       "np.int64(650)"
      ]
     },
     "execution_count": 13,
     "metadata": {},
     "output_type": "execute_result"
    }
   ],
   "source": [
    "# access values using index name\n",
    "Sales[\"b\"]"
   ]
  },
  {
   "cell_type": "markdown",
   "id": "390a31e3-39b4-427d-9368-922016b0cfa6",
   "metadata": {},
   "source": [
    "### Checking for Conditions"
   ]
  },
  {
   "cell_type": "code",
   "execution_count": 16,
   "id": "29ac0a82-9c3c-4697-873e-be94cc1ed373",
   "metadata": {},
   "outputs": [
    {
     "data": {
      "text/plain": [
       "a    False\n",
       "b     True\n",
       "c     True\n",
       "dtype: bool"
      ]
     },
     "execution_count": 16,
     "metadata": {},
     "output_type": "execute_result"
    }
   ],
   "source": [
    "# filter by condition, usualy return booleans\n",
    "Sales>500"
   ]
  },
  {
   "cell_type": "code",
   "execution_count": 17,
   "id": "ec5bf704-1f14-48bd-90e9-dff90620178d",
   "metadata": {},
   "outputs": [
    {
     "data": {
      "text/plain": [
       "b    650\n",
       "c    720\n",
       "dtype: int64"
      ]
     },
     "execution_count": 17,
     "metadata": {},
     "output_type": "execute_result"
    }
   ],
   "source": [
    "# use booleans \n",
    "Sales[[False,True,True]]"
   ]
  },
  {
   "cell_type": "code",
   "execution_count": 18,
   "id": "e0c0489f-6686-45a5-b067-3becd6304eec",
   "metadata": {},
   "outputs": [
    {
     "data": {
      "text/plain": [
       "b    650\n",
       "c    720\n",
       "dtype: int64"
      ]
     },
     "execution_count": 18,
     "metadata": {},
     "output_type": "execute_result"
    }
   ],
   "source": [
    "# if we want to see >500, can use these booleans\n",
    "Sales[Sales>500]"
   ]
  },
  {
   "cell_type": "code",
   "execution_count": 19,
   "id": "707f7976-108b-4d1a-bce7-9f4ea3e1860b",
   "metadata": {},
   "outputs": [
    {
     "data": {
      "text/plain": [
       "True"
      ]
     },
     "execution_count": 19,
     "metadata": {},
     "output_type": "execute_result"
    }
   ],
   "source": [
    "# check if name in index\n",
    "\"c\" in Sales"
   ]
  },
  {
   "cell_type": "code",
   "execution_count": 21,
   "id": "e6fb0378-63ca-4180-b8bb-530368f047d3",
   "metadata": {},
   "outputs": [
    {
     "data": {
      "text/plain": [
       "False"
      ]
     },
     "execution_count": 21,
     "metadata": {},
     "output_type": "execute_result"
    }
   ],
   "source": [
    "450 in Sales\n",
    "# 450 is not index, its value. Thus false"
   ]
  },
  {
   "cell_type": "markdown",
   "id": "bce90eaa-5e22-4652-a01a-80a1d7e6c11b",
   "metadata": {},
   "source": [
    "### Working with Dictionaries"
   ]
  },
  {
   "cell_type": "code",
   "execution_count": 22,
   "id": "d6587cf0-aea9-413a-b050-7c00be26a2d9",
   "metadata": {},
   "outputs": [
    {
     "data": {
      "text/plain": [
       "{'a': 450, 'b': 650, 'c': 720}"
      ]
     },
     "execution_count": 22,
     "metadata": {},
     "output_type": "execute_result"
    }
   ],
   "source": [
    "# converting series to dictionary\n",
    "sales_dict=Sales.to_dict()\n",
    "sales_dict"
   ]
  },
  {
   "cell_type": "code",
   "execution_count": 23,
   "id": "b9934eb4-9fdf-4ff5-b12c-265b9d4679df",
   "metadata": {},
   "outputs": [
    {
     "data": {
      "text/plain": [
       "a    450\n",
       "b    650\n",
       "c    720\n",
       "dtype: int64"
      ]
     },
     "execution_count": 23,
     "metadata": {},
     "output_type": "execute_result"
    }
   ],
   "source": [
    "# converting to dictionary to series\n",
    "sales_ser=Series(sales_dict)\n",
    "sales_ser"
   ]
  },
  {
   "cell_type": "markdown",
   "id": "17cb0825-e8af-41f6-b242-6f017f44f582",
   "metadata": {},
   "source": [
    "### Adding entries and working with null values"
   ]
  },
  {
   "cell_type": "code",
   "execution_count": 25,
   "id": "e98ce323-ce75-4a36-9dd9-e65770a29704",
   "metadata": {},
   "outputs": [
    {
     "data": {
      "text/plain": [
       "a    450.0\n",
       "c    720.0\n",
       "f      NaN\n",
       "z      NaN\n",
       "dtype: float64"
      ]
     },
     "execution_count": 25,
     "metadata": {},
     "output_type": "execute_result"
    }
   ],
   "source": [
    "# create a new series from existing\n",
    "# if we specify in the index that were NOT already, NaN values assigned\n",
    "new_sales=Series(Sales,index=[\"a\",\"c\",\"f\",\"z\"])\n",
    "new_sales"
   ]
  },
  {
   "cell_type": "code",
   "execution_count": 36,
   "id": "41d506b6-0c77-471b-86a1-2b13684f0696",
   "metadata": {},
   "outputs": [
    {
     "data": {
      "text/plain": [
       "a    450.0\n",
       "c    720.0\n",
       "f      NaN\n",
       "z      NaN\n",
       "h    120.0\n",
       "dtype: float64"
      ]
     },
     "execution_count": 36,
     "metadata": {},
     "output_type": "execute_result"
    }
   ],
   "source": [
    "# add values by concat\n",
    "newnew_sales=Series([120],index=[\"h\"])\n",
    "nsales=pd.concat([new_sales,newnew_sales])\n",
    "nsales"
   ]
  },
  {
   "cell_type": "code",
   "execution_count": 26,
   "id": "859e13d3-5c8f-4974-bba1-fc65ac7a8530",
   "metadata": {},
   "outputs": [
    {
     "data": {
      "text/plain": [
       "a    False\n",
       "c    False\n",
       "f     True\n",
       "z     True\n",
       "dtype: bool"
      ]
     },
     "execution_count": 26,
     "metadata": {},
     "output_type": "execute_result"
    }
   ],
   "source": [
    "# check if any NaN values in a Series\n",
    "# USE NUMPY\n",
    "np.isnan(new_sales)"
   ]
  },
  {
   "cell_type": "code",
   "execution_count": 28,
   "id": "2c9dea8d-2b65-45c2-a767-3f8182e1e255",
   "metadata": {},
   "outputs": [
    {
     "data": {
      "text/plain": [
       "a    False\n",
       "c    False\n",
       "f     True\n",
       "z     True\n",
       "dtype: bool"
      ]
     },
     "execution_count": 28,
     "metadata": {},
     "output_type": "execute_result"
    }
   ],
   "source": [
    "# check for null values\n",
    "# USE PANDAS\n",
    "pd.isnull(new_sales)"
   ]
  },
  {
   "cell_type": "markdown",
   "id": "b3dcebc1-3240-4401-ba26-be05ed258a80",
   "metadata": {},
   "source": [
    "### Naming components\n"
   ]
  },
  {
   "cell_type": "code",
   "execution_count": 30,
   "id": "e7ef4f3f-1e50-44a0-bc0e-3dfc90233286",
   "metadata": {},
   "outputs": [
    {
     "data": {
      "text/plain": [
       "Sales Person\n",
       "a    450\n",
       "b    650\n",
       "c    720\n",
       "dtype: int64"
      ]
     },
     "execution_count": 30,
     "metadata": {},
     "output_type": "execute_result"
    }
   ],
   "source": [
    "# name an index\n",
    "Sales.index.name=\"Sales Person\"\n",
    "Sales"
   ]
  },
  {
   "cell_type": "code",
   "execution_count": 31,
   "id": "4eccb9f8-aeea-410d-bbf7-36b79cdec442",
   "metadata": {},
   "outputs": [
    {
     "data": {
      "text/plain": [
       "Sales Person\n",
       "a    450\n",
       "b    650\n",
       "c    720\n",
       "Name: Total sales, dtype: int64"
      ]
     },
     "execution_count": 31,
     "metadata": {},
     "output_type": "execute_result"
    }
   ],
   "source": [
    "# name a series\n",
    "Sales.name=\"Total sales\"\n",
    "Sales"
   ]
  },
  {
   "cell_type": "markdown",
   "id": "999fe39e-c9b6-40e7-b6c4-30d5e90ead63",
   "metadata": {},
   "source": [
    "## Data Frames\n",
    "Data frames are 2d, size-mutable, potentionally heterogeneous tabular data structures. This data structure contains TWO labeled axes."
   ]
  },
  {
   "cell_type": "code",
   "execution_count": 34,
   "id": "4a19f9d3-d22e-4017-91a9-3d177f397fcb",
   "metadata": {},
   "outputs": [
    {
     "data": {
      "text/html": [
       "<div>\n",
       "<style scoped>\n",
       "    .dataframe tbody tr th:only-of-type {\n",
       "        vertical-align: middle;\n",
       "    }\n",
       "\n",
       "    .dataframe tbody tr th {\n",
       "        vertical-align: top;\n",
       "    }\n",
       "\n",
       "    .dataframe thead th {\n",
       "        text-align: right;\n",
       "    }\n",
       "</style>\n",
       "<table border=\"1\" class=\"dataframe\">\n",
       "  <thead>\n",
       "    <tr style=\"text-align: right;\">\n",
       "      <th></th>\n",
       "      <th>Name</th>\n",
       "      <th>Age</th>\n",
       "    </tr>\n",
       "  </thead>\n",
       "  <tbody>\n",
       "    <tr>\n",
       "      <th>0</th>\n",
       "      <td>a</td>\n",
       "      <td>20</td>\n",
       "    </tr>\n",
       "    <tr>\n",
       "      <th>1</th>\n",
       "      <td>b</td>\n",
       "      <td>23</td>\n",
       "    </tr>\n",
       "    <tr>\n",
       "      <th>2</th>\n",
       "      <td>c</td>\n",
       "      <td>41</td>\n",
       "    </tr>\n",
       "  </tbody>\n",
       "</table>\n",
       "</div>"
      ],
      "text/plain": [
       "  Name  Age\n",
       "0    a   20\n",
       "1    b   23\n",
       "2    c   41"
      ]
     },
     "execution_count": 34,
     "metadata": {},
     "output_type": "execute_result"
    }
   ],
   "source": [
    "# create a DataFrame form list\n",
    "data=[[\"a\",20],[\"b\",23],[\"c\",41]]\n",
    "# when a DataFrame is created, we can specify column names and data types\n",
    "df=pd.DataFrame(data,columns=[\"Name\",\"Age\"])\n",
    "df"
   ]
  },
  {
   "cell_type": "code",
   "execution_count": null,
   "id": "75fde73e-e028-4c35-b168-170f98fe2520",
   "metadata": {},
   "outputs": [],
   "source": []
  }
 ],
 "metadata": {
  "kernelspec": {
   "display_name": "Python 3 (ipykernel)",
   "language": "python",
   "name": "python3"
  },
  "language_info": {
   "codemirror_mode": {
    "name": "ipython",
    "version": 3
   },
   "file_extension": ".py",
   "mimetype": "text/x-python",
   "name": "python",
   "nbconvert_exporter": "python",
   "pygments_lexer": "ipython3",
   "version": "3.13.1"
  }
 },
 "nbformat": 4,
 "nbformat_minor": 5
}
