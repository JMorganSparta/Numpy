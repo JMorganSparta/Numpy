{
 "cells": [
  {
   "cell_type": "markdown",
   "id": "1fde36d1-101b-4981-bc47-3052ff6ee82a",
   "metadata": {},
   "source": [
    "# Numpy"
   ]
  },
  {
   "cell_type": "markdown",
   "id": "9295770a-2cf0-46a4-be0b-f5c7cdcdd6a9",
   "metadata": {},
   "source": [
    "Numpy is a library that provides support for large, homogeneous, multi-dimentional arrays and matrices."
   ]
  },
  {
   "cell_type": "code",
   "execution_count": 2,
   "id": "85d2b5a0-f05d-47fe-9fe8-e1085f8f3b19",
   "metadata": {},
   "outputs": [],
   "source": [
    "import numpy as np"
   ]
  },
  {
   "cell_type": "markdown",
   "id": "3030d930-8723-481d-8ed3-7f92d6447adc",
   "metadata": {},
   "source": [
    "## Creating Arrays in Numpy\n",
    "### Creating an array from a list"
   ]
  },
  {
   "cell_type": "code",
   "execution_count": 3,
   "id": "32e13c4b-ea23-495f-8731-6f2118d49175",
   "metadata": {},
   "outputs": [
    {
     "data": {
      "text/plain": [
       "[10, 20, 30]"
      ]
     },
     "execution_count": 3,
     "metadata": {},
     "output_type": "execute_result"
    }
   ],
   "source": [
    "list1=[10,20,30]\n",
    "list1"
   ]
  },
  {
   "cell_type": "code",
   "execution_count": 4,
   "id": "517ee345-e6db-480b-acab-1b5d7c317f32",
   "metadata": {},
   "outputs": [
    {
     "data": {
      "text/plain": [
       "array([10, 20, 30])"
      ]
     },
     "execution_count": 4,
     "metadata": {},
     "output_type": "execute_result"
    }
   ],
   "source": [
    "arr1=np.array(list1)\n",
    "arr1"
   ]
  },
  {
   "cell_type": "code",
   "execution_count": 5,
   "id": "fddb1d94-abf1-4ba5-b8a5-03ae044953d2",
   "metadata": {},
   "outputs": [
    {
     "data": {
      "text/plain": [
       "numpy.ndarray"
      ]
     },
     "execution_count": 5,
     "metadata": {},
     "output_type": "execute_result"
    }
   ],
   "source": [
    "type(arr1)"
   ]
  },
  {
   "cell_type": "markdown",
   "id": "6a1195bc-d3b7-4d5c-bd17-4c35f0c3afee",
   "metadata": {},
   "source": [
    "### Create an array from range"
   ]
  },
  {
   "cell_type": "markdown",
   "id": "9648071e-23d2-462d-9fd1-26c7d8c3d5d4",
   "metadata": {},
   "source": [
    "Difference between array and arange is that array takes in a list and turns it into an array, whereas arage creates an array from a range of numbers"
   ]
  },
  {
   "cell_type": "code",
   "execution_count": 7,
   "id": "58360436-e289-42a9-a655-39a7e5697229",
   "metadata": {},
   "outputs": [
    {
     "data": {
      "text/plain": [
       "array([10, 11, 12, 13, 14, 15, 16, 17, 18, 19])"
      ]
     },
     "execution_count": 7,
     "metadata": {},
     "output_type": "execute_result"
    }
   ],
   "source": [
    "arr2=np.arange(10,20,1) # (start,stop,)\n",
    "arr2"
   ]
  },
  {
   "cell_type": "markdown",
   "id": "30c51e44-d146-4ef9-9540-4ece6440644b",
   "metadata": {},
   "source": [
    "## Multi-dimentional arrays\n",
    "\n",
    "### Combining 2 lists\n",
    "\n",
    "When we combine arrays, we add a dimension. Combining two arrays gives 2D.\n",
    "This creats a matrix for us on which we can perform matrix operations."
   ]
  },
  {
   "cell_type": "code",
   "execution_count": 9,
   "id": "abbec272-4126-408c-be0f-77bdf0762130",
   "metadata": {},
   "outputs": [
    {
     "data": {
      "text/plain": [
       "array([[10, 20, 30],\n",
       "       [40, 50, 60]])"
      ]
     },
     "execution_count": 9,
     "metadata": {},
     "output_type": "execute_result"
    }
   ],
   "source": [
    "#lets create a new list to join onto the first list\n",
    "list2=[40,50,60]\n",
    "#join list\n",
    "list3=[list1,list2]\n",
    "#create array\n",
    "arr3=np.array(list3)\n",
    "arr3"
   ]
  },
  {
   "cell_type": "code",
   "execution_count": 10,
   "id": "365dffcd-bfe9-4af7-9f23-a1d0a497f3a0",
   "metadata": {},
   "outputs": [
    {
     "data": {
      "text/plain": [
       "(2, 3)"
      ]
     },
     "execution_count": 10,
     "metadata": {},
     "output_type": "execute_result"
    }
   ],
   "source": [
    "#find the shape\n",
    "# 2d array with 2 rows and 3 columns\n",
    "arr3.shape"
   ]
  },
  {
   "cell_type": "markdown",
   "id": "60852bd5-7c61-478a-a40e-7c83af629f4a",
   "metadata": {},
   "source": [
    "### 3D arrays"
   ]
  },
  {
   "cell_type": "code",
   "execution_count": null,
   "id": "7c2e90f7-89de-4f35-a175-326017c04b1b",
   "metadata": {},
   "outputs": [],
   "source": []
  }
 ],
 "metadata": {
  "kernelspec": {
   "display_name": "Python 3 (ipykernel)",
   "language": "python",
   "name": "python3"
  },
  "language_info": {
   "codemirror_mode": {
    "name": "ipython",
    "version": 3
   },
   "file_extension": ".py",
   "mimetype": "text/x-python",
   "name": "python",
   "nbconvert_exporter": "python",
   "pygments_lexer": "ipython3",
   "version": "3.13.1"
  }
 },
 "nbformat": 4,
 "nbformat_minor": 5
}
