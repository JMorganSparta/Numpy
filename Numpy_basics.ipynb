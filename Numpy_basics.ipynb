{
 "cells": [
  {
   "cell_type": "markdown",
   "id": "1fde36d1-101b-4981-bc47-3052ff6ee82a",
   "metadata": {},
   "source": [
    "# Numpy"
   ]
  },
  {
   "cell_type": "markdown",
   "id": "9295770a-2cf0-46a4-be0b-f5c7cdcdd6a9",
   "metadata": {},
   "source": [
    "Numpy is a library that provides support for large, homogeneous, multi-dimentional arrays and matrices."
   ]
  },
  {
   "cell_type": "code",
   "execution_count": 2,
   "id": "85d2b5a0-f05d-47fe-9fe8-e1085f8f3b19",
   "metadata": {},
   "outputs": [],
   "source": [
    "import numpy as np"
   ]
  },
  {
   "cell_type": "markdown",
   "id": "3030d930-8723-481d-8ed3-7f92d6447adc",
   "metadata": {},
   "source": [
    "## Creating Arrays in Numpy\n",
    "### Creating an array from a list"
   ]
  },
  {
   "cell_type": "code",
   "execution_count": 3,
   "id": "32e13c4b-ea23-495f-8731-6f2118d49175",
   "metadata": {},
   "outputs": [
    {
     "data": {
      "text/plain": [
       "[10, 20, 30]"
      ]
     },
     "execution_count": 3,
     "metadata": {},
     "output_type": "execute_result"
    }
   ],
   "source": [
    "list1=[10,20,30]\n",
    "list1"
   ]
  },
  {
   "cell_type": "code",
   "execution_count": 4,
   "id": "517ee345-e6db-480b-acab-1b5d7c317f32",
   "metadata": {},
   "outputs": [
    {
     "data": {
      "text/plain": [
       "array([10, 20, 30])"
      ]
     },
     "execution_count": 4,
     "metadata": {},
     "output_type": "execute_result"
    }
   ],
   "source": [
    "arr1=np.array(list1)\n",
    "arr1"
   ]
  },
  {
   "cell_type": "code",
   "execution_count": 5,
   "id": "fddb1d94-abf1-4ba5-b8a5-03ae044953d2",
   "metadata": {},
   "outputs": [
    {
     "data": {
      "text/plain": [
       "numpy.ndarray"
      ]
     },
     "execution_count": 5,
     "metadata": {},
     "output_type": "execute_result"
    }
   ],
   "source": [
    "type(arr1)"
   ]
  },
  {
   "cell_type": "markdown",
   "id": "6a1195bc-d3b7-4d5c-bd17-4c35f0c3afee",
   "metadata": {},
   "source": [
    "### Create an array from range"
   ]
  },
  {
   "cell_type": "markdown",
   "id": "9648071e-23d2-462d-9fd1-26c7d8c3d5d4",
   "metadata": {},
   "source": [
    "Difference between array and arange is that array takes in a list and turns it into an array, whereas arage creates an array from a range of numbers"
   ]
  },
  {
   "cell_type": "code",
   "execution_count": 7,
   "id": "58360436-e289-42a9-a655-39a7e5697229",
   "metadata": {},
   "outputs": [
    {
     "data": {
      "text/plain": [
       "array([10, 11, 12, 13, 14, 15, 16, 17, 18, 19])"
      ]
     },
     "execution_count": 7,
     "metadata": {},
     "output_type": "execute_result"
    }
   ],
   "source": [
    "arr2=np.arange(10,20,1) # (start,stop,)\n",
    "arr2"
   ]
  },
  {
   "cell_type": "markdown",
   "id": "30c51e44-d146-4ef9-9540-4ece6440644b",
   "metadata": {},
   "source": [
    "## Multi-dimentional arrays\n",
    "\n",
    "### Combining 2 lists\n",
    "\n",
    "When we combine arrays, we add a dimension. Combining two arrays gives 2D.\n",
    "This creats a matrix for us on which we can perform matrix operations."
   ]
  },
  {
   "cell_type": "code",
   "execution_count": 9,
   "id": "abbec272-4126-408c-be0f-77bdf0762130",
   "metadata": {},
   "outputs": [
    {
     "data": {
      "text/plain": [
       "array([[10, 20, 30],\n",
       "       [40, 50, 60]])"
      ]
     },
     "execution_count": 9,
     "metadata": {},
     "output_type": "execute_result"
    }
   ],
   "source": [
    "#lets create a new list to join onto the first list\n",
    "list2=[40,50,60]\n",
    "#join list\n",
    "list3=[list1,list2]\n",
    "#create array\n",
    "arr3=np.array(list3)\n",
    "arr3"
   ]
  },
  {
   "cell_type": "code",
   "execution_count": 10,
   "id": "365dffcd-bfe9-4af7-9f23-a1d0a497f3a0",
   "metadata": {},
   "outputs": [
    {
     "data": {
      "text/plain": [
       "(2, 3)"
      ]
     },
     "execution_count": 10,
     "metadata": {},
     "output_type": "execute_result"
    }
   ],
   "source": [
    "#find the shape\n",
    "# 2d array with 2 rows and 3 columns\n",
    "arr3.shape"
   ]
  },
  {
   "cell_type": "markdown",
   "id": "60852bd5-7c61-478a-a40e-7c83af629f4a",
   "metadata": {},
   "source": [
    "### 3D arrays"
   ]
  },
  {
   "cell_type": "code",
   "execution_count": 11,
   "id": "82f84b5e-b5e2-4f8a-9d58-c4bb85f88274",
   "metadata": {},
   "outputs": [
    {
     "data": {
      "text/plain": [
       "array([[[1, 2, 3],\n",
       "        [3, 4, 5]],\n",
       "\n",
       "       [[5, 6, 7],\n",
       "        [7, 8, 9]]])"
      ]
     },
     "execution_count": 11,
     "metadata": {},
     "output_type": "execute_result"
    }
   ],
   "source": [
    "arr3dim=np.array([[[1,2,3],[3,4,5]],[[5,6,7],[7,8,9]]])\n",
    "arr3dim"
   ]
  },
  {
   "cell_type": "code",
   "execution_count": 12,
   "id": "cdd7a2da-4213-4da6-8543-e42bdf231cb4",
   "metadata": {},
   "outputs": [
    {
     "data": {
      "text/plain": [
       "(2, 2, 3)"
      ]
     },
     "execution_count": 12,
     "metadata": {},
     "output_type": "execute_result"
    }
   ],
   "source": [
    "arr3dim.shape"
   ]
  },
  {
   "cell_type": "markdown",
   "id": "957688dd-926b-4997-8c5b-814209608ef3",
   "metadata": {},
   "source": [
    "## Using arrays and scalars\n",
    "Numpy arrays (or ndarray) allow us to perform matrix operations."
   ]
  },
  {
   "cell_type": "code",
   "execution_count": 13,
   "id": "5e5792bb-ccf1-4121-a24e-7cfbe77f5c83",
   "metadata": {},
   "outputs": [
    {
     "data": {
      "text/plain": [
       "array([[[ 3,  6,  9],\n",
       "        [ 9, 12, 15]],\n",
       "\n",
       "       [[15, 18, 21],\n",
       "        [21, 24, 27]]])"
      ]
     },
     "execution_count": 13,
     "metadata": {},
     "output_type": "execute_result"
    }
   ],
   "source": [
    "#for exmaple, we can use simple multiplication\n",
    "arr3dim*3"
   ]
  },
  {
   "cell_type": "markdown",
   "id": "ccf733cf-a237-4ce1-ab4e-6c6d55ec10af",
   "metadata": {},
   "source": [
    "Multiplication of array is scalar multiplication on matrix. Doing this on list, it is just repeating."
   ]
  },
  {
   "cell_type": "code",
   "execution_count": 22,
   "id": "8d318bfe-12d6-4a5c-a39c-c13382f237df",
   "metadata": {},
   "outputs": [
    {
     "data": {
      "text/plain": [
       "array([40, 50, 60])"
      ]
     },
     "execution_count": 22,
     "metadata": {},
     "output_type": "execute_result"
    }
   ],
   "source": [
    "#we can multiply matricies (this is the dot product of vectors)\n",
    "arr11=np.array(list2)\n",
    "arr11"
   ]
  },
  {
   "cell_type": "code",
   "execution_count": 17,
   "id": "750d77b7-2c2c-4121-9c86-d4b107c8711b",
   "metadata": {},
   "outputs": [
    {
     "data": {
      "text/plain": [
       "array([ 400, 1000, 1800])"
      ]
     },
     "execution_count": 17,
     "metadata": {},
     "output_type": "execute_result"
    }
   ],
   "source": [
    "arr1*arr11"
   ]
  },
  {
   "cell_type": "markdown",
   "id": "a45c0d37-6569-41d0-8b33-7d10141c9491",
   "metadata": {},
   "source": [
    "### It is possible to multiply arrays of different dimentions but same shape\n"
   ]
  },
  {
   "cell_type": "code",
   "execution_count": 23,
   "id": "fb1fe4eb-9b7f-46bb-8702-dfbcef3d49a3",
   "metadata": {},
   "outputs": [
    {
     "data": {
      "text/plain": [
       "array([[[ 10,  40,  90],\n",
       "        [ 30,  80, 150]],\n",
       "\n",
       "       [[ 50, 120, 210],\n",
       "        [ 70, 160, 270]]])"
      ]
     },
     "execution_count": 23,
     "metadata": {},
     "output_type": "execute_result"
    }
   ],
   "source": [
    "arr1*arr3dim"
   ]
  },
  {
   "cell_type": "markdown",
   "id": "589a9799-78fa-4a34-8782-c2e37bfb4a9b",
   "metadata": {},
   "source": [
    "### Task"
   ]
  },
  {
   "cell_type": "code",
   "execution_count": 36,
   "id": "af3f1d2c-a789-4bcf-b952-b29bcbbed2a3",
   "metadata": {},
   "outputs": [
    {
     "data": {
      "text/plain": [
       "array([ 0,  1,  2,  3,  4,  5,  6,  7,  8,  9, 10, 11])"
      ]
     },
     "execution_count": 36,
     "metadata": {},
     "output_type": "execute_result"
    }
   ],
   "source": [
    "#1d array with 12 elements:\n",
    "task1=np.arange(0,12,1)\n",
    "task1"
   ]
  },
  {
   "cell_type": "code",
   "execution_count": 28,
   "id": "f4151e83-848a-41ae-9454-92008f5a8606",
   "metadata": {},
   "outputs": [
    {
     "data": {
      "text/plain": [
       "array([[1, 2, 3, 4],\n",
       "       [2, 3, 4, 5],\n",
       "       [3, 4, 5, 6]])"
      ]
     },
     "execution_count": 28,
     "metadata": {},
     "output_type": "execute_result"
    }
   ],
   "source": [
    "#2d array with size (2,4):\n",
    "l1=[1,2,3,4]\n",
    "l2=[2,3,4,5]\n",
    "l3=[3,4,5,6]\n",
    "task2=np.array([l1,l2,l3])\n",
    "task2"
   ]
  },
  {
   "cell_type": "code",
   "execution_count": 34,
   "id": "e65bb377-f8ba-49e6-9de6-8485db5ffa15",
   "metadata": {},
   "outputs": [
    {
     "data": {
      "text/plain": [
       "array([[[1, 2, 3, 4],\n",
       "        [2, 3, 4, 5],\n",
       "        [3, 4, 5, 6],\n",
       "        [4, 5, 6, 7],\n",
       "        [5, 6, 7, 8]],\n",
       "\n",
       "       [[5, 6, 7, 8],\n",
       "        [4, 5, 6, 7],\n",
       "        [3, 4, 5, 6],\n",
       "        [2, 3, 4, 5],\n",
       "        [1, 2, 3, 4]]])"
      ]
     },
     "execution_count": 34,
     "metadata": {},
     "output_type": "execute_result"
    }
   ],
   "source": [
    "#3d array with shape (2,5,4)\n",
    "l4=[4,5,6,7]\n",
    "l5=[5,6,7,8]\n",
    "arrr1=[l1,l2,l3,l4,l5]\n",
    "arrr2=[l5,l4,l3,l2,l1]\n",
    "task3=np.array([arrr1,arrr2])\n",
    "task3"
   ]
  },
  {
   "cell_type": "markdown",
   "id": "e5d5a843-93e9-4991-b0a3-9a46862b8d43",
   "metadata": {},
   "source": [
    "## Accessing values\n",
    "\n",
    "Lets take arr3 as our example, this was a 2d array."
   ]
  },
  {
   "cell_type": "code",
   "execution_count": 40,
   "id": "e8b1650a-cde1-440f-9173-a9fc6e213949",
   "metadata": {},
   "outputs": [
    {
     "data": {
      "text/plain": [
       "60"
      ]
     },
     "execution_count": 40,
     "metadata": {},
     "output_type": "execute_result"
    }
   ],
   "source": [
    "#How to access 60\n",
    "int(arr3[1][2])"
   ]
  },
  {
   "cell_type": "code",
   "execution_count": 41,
   "id": "4aabcd31-a28e-4cb2-819f-667eb2438754",
   "metadata": {},
   "outputs": [
    {
     "data": {
      "text/plain": [
       "60"
      ]
     },
     "execution_count": 41,
     "metadata": {},
     "output_type": "execute_result"
    }
   ],
   "source": [
    "#or\n",
    "int(arr3[1,2])"
   ]
  },
  {
   "cell_type": "code",
   "execution_count": 42,
   "id": "27b4a7a9-54eb-4732-8149-5dd40de8ab5f",
   "metadata": {},
   "outputs": [
    {
     "data": {
      "text/plain": [
       "array([40, 50, 60])"
      ]
     },
     "execution_count": 42,
     "metadata": {},
     "output_type": "execute_result"
    }
   ],
   "source": [
    "#how to get bottom row\n",
    "arr3[1]"
   ]
  },
  {
   "cell_type": "code",
   "execution_count": 45,
   "id": "19dfc013-ae40-49b9-abc3-dd0273a18b09",
   "metadata": {},
   "outputs": [
    {
     "data": {
      "text/plain": [
       "array([30, 60])"
      ]
     },
     "execution_count": 45,
     "metadata": {},
     "output_type": "execute_result"
    }
   ],
   "source": [
    "#how to get the last COLUMN\n",
    "arr3[:,2]"
   ]
  },
  {
   "cell_type": "markdown",
   "id": "9f34f0ea-fccd-4356-a97e-aa4953904208",
   "metadata": {},
   "source": [
    "## Stats functions"
   ]
  },
  {
   "cell_type": "code",
   "execution_count": 47,
   "id": "a7128c58-2fcb-46cc-a09d-48df5a972ca2",
   "metadata": {},
   "outputs": [
    {
     "data": {
      "text/plain": [
       "210"
      ]
     },
     "execution_count": 47,
     "metadata": {},
     "output_type": "execute_result"
    }
   ],
   "source": [
    "#sum of values\n",
    "int(arr3.sum())"
   ]
  },
  {
   "cell_type": "code",
   "execution_count": 49,
   "id": "25c0d1d3-afec-4495-aad6-0b231be0b2a6",
   "metadata": {},
   "outputs": [
    {
     "data": {
      "text/plain": [
       "array([50, 70, 90])"
      ]
     },
     "execution_count": 49,
     "metadata": {},
     "output_type": "execute_result"
    }
   ],
   "source": [
    "#sum of columns\n",
    "arr3.sum(0)"
   ]
  },
  {
   "cell_type": "code",
   "execution_count": 50,
   "id": "dc416208-a41b-4eab-8a2f-d50765f5728c",
   "metadata": {},
   "outputs": [
    {
     "data": {
      "text/plain": [
       "array([ 60, 150])"
      ]
     },
     "execution_count": 50,
     "metadata": {},
     "output_type": "execute_result"
    }
   ],
   "source": [
    "#sum or all rows\n",
    "arr3.sum(1)"
   ]
  },
  {
   "cell_type": "code",
   "execution_count": 52,
   "id": "33199047-e580-4ac5-bcb8-e884b9b141dc",
   "metadata": {},
   "outputs": [
    {
     "data": {
      "text/plain": [
       "np.float64(35.0)"
      ]
     },
     "execution_count": 52,
     "metadata": {},
     "output_type": "execute_result"
    }
   ],
   "source": [
    "#mean of all values\n",
    "arr3.mean()"
   ]
  },
  {
   "cell_type": "code",
   "execution_count": 63,
   "id": "3ea5c35a-d995-49cc-b1e4-e5bd70f2e55e",
   "metadata": {},
   "outputs": [
    {
     "data": {
      "text/plain": [
       "np.float64(17.07825127659933)"
      ]
     },
     "execution_count": 63,
     "metadata": {},
     "output_type": "execute_result"
    }
   ],
   "source": [
    "#standard deviation of all values\n",
    "arr3.std()"
   ]
  },
  {
   "cell_type": "code",
   "execution_count": 62,
   "id": "d1c7b82d-ee69-4c70-94e9-f4eb9be9f070",
   "metadata": {},
   "outputs": [
    {
     "data": {
      "text/plain": [
       "np.float64(291.6666666666667)"
      ]
     },
     "execution_count": 62,
     "metadata": {},
     "output_type": "execute_result"
    }
   ],
   "source": [
    "#variance of all values\n",
    "arr3.var()"
   ]
  },
  {
   "cell_type": "code",
   "execution_count": 61,
   "id": "842b305b-c204-4212-824c-e16010ffef26",
   "metadata": {},
   "outputs": [
    {
     "data": {
      "text/plain": [
       "np.int64(10)"
      ]
     },
     "execution_count": 61,
     "metadata": {},
     "output_type": "execute_result"
    }
   ],
   "source": [
    "#min of all values\n",
    "arr3.min()"
   ]
  },
  {
   "cell_type": "code",
   "execution_count": 60,
   "id": "a2c5076b-903f-40bf-9881-2589efe7314d",
   "metadata": {},
   "outputs": [
    {
     "data": {
      "text/plain": [
       "np.int64(60)"
      ]
     },
     "execution_count": 60,
     "metadata": {},
     "output_type": "execute_result"
    }
   ],
   "source": [
    "#max of all values\n",
    "arr3.max()"
   ]
  },
  {
   "cell_type": "markdown",
   "id": "14e29a67-ac60-4eed-b7af-05a3cfc9db50",
   "metadata": {},
   "source": [
    "## Iterating through arrays\n",
    "Simpliest is a loop"
   ]
  },
  {
   "cell_type": "code",
   "execution_count": 64,
   "id": "a23519f1-0244-452f-a853-3019ed184b43",
   "metadata": {},
   "outputs": [
    {
     "name": "stdout",
     "output_type": "stream",
     "text": [
      "10\n",
      "20\n",
      "30\n"
     ]
    }
   ],
   "source": [
    "for x in arr1:\n",
    "    print(x)"
   ]
  },
  {
   "cell_type": "code",
   "execution_count": 68,
   "id": "ee2af59a-50f2-4251-bb82-6c37533a3bd9",
   "metadata": {},
   "outputs": [
    {
     "name": "stdout",
     "output_type": "stream",
     "text": [
      "10\n",
      "20\n",
      "30\n",
      "40\n",
      "50\n",
      "60\n"
     ]
    }
   ],
   "source": [
    "#For an n-dimentional\n",
    "for dim in arr3:\n",
    "    for num in dim:\n",
    "        print(num)"
   ]
  },
  {
   "cell_type": "code",
   "execution_count": 70,
   "id": "b935cc3b-ad02-4b17-ac16-cda3c349428b",
   "metadata": {},
   "outputs": [
    {
     "name": "stdout",
     "output_type": "stream",
     "text": [
      "10\n",
      "20\n",
      "30\n",
      "40\n",
      "50\n",
      "60\n"
     ]
    }
   ],
   "source": [
    "#another way! nditer\n",
    "#tends to be much cleaner than nested loops\n",
    "for x in np.nditer(arr3):\n",
    "    print(x)"
   ]
  },
  {
   "cell_type": "markdown",
   "id": "b5e0f1b8-947b-499b-b463-5a9aa2506f60",
   "metadata": {},
   "source": [
    "### Saving and uploading in numpy"
   ]
  },
  {
   "cell_type": "code",
   "execution_count": 71,
   "id": "ab66f7d8-23c6-4fbe-8651-721fa92cc9f2",
   "metadata": {},
   "outputs": [],
   "source": [
    "#save array as file\n",
    "np.save(\"new\",arr3)"
   ]
  },
  {
   "cell_type": "code",
   "execution_count": 72,
   "id": "a719e6f6-faf8-4c09-8f8e-e79dc6b62150",
   "metadata": {},
   "outputs": [
    {
     "data": {
      "text/plain": [
       "array([[10, 20, 30],\n",
       "       [40, 50, 60]])"
      ]
     },
     "execution_count": 72,
     "metadata": {},
     "output_type": "execute_result"
    }
   ],
   "source": [
    "#load the file\n",
    "np.load(\"new.npy\")"
   ]
  },
  {
   "cell_type": "code",
   "execution_count": 74,
   "id": "4999b81a-b6de-49c0-bf0d-a03d12d323cd",
   "metadata": {},
   "outputs": [],
   "source": [
    "#save as txt\n",
    "np.savetxt(\"new.txt\",arr3,delimiter=\",\")"
   ]
  },
  {
   "cell_type": "code",
   "execution_count": 75,
   "id": "08e28e07-0f61-40d4-a826-44bde2625645",
   "metadata": {},
   "outputs": [
    {
     "data": {
      "text/plain": [
       "array([[10., 20., 30.],\n",
       "       [40., 50., 60.]])"
      ]
     },
     "execution_count": 75,
     "metadata": {},
     "output_type": "execute_result"
    }
   ],
   "source": [
    "#load as txt\n",
    "np.loadtxt(\"new.txt\",delimiter=\",\")"
   ]
  },
  {
   "cell_type": "code",
   "execution_count": null,
   "id": "858e273e-55b6-4791-b260-33410431afb9",
   "metadata": {},
   "outputs": [],
   "source": []
  }
 ],
 "metadata": {
  "kernelspec": {
   "display_name": "Python 3 (ipykernel)",
   "language": "python",
   "name": "python3"
  },
  "language_info": {
   "codemirror_mode": {
    "name": "ipython",
    "version": 3
   },
   "file_extension": ".py",
   "mimetype": "text/x-python",
   "name": "python",
   "nbconvert_exporter": "python",
   "pygments_lexer": "ipython3",
   "version": "3.13.1"
  }
 },
 "nbformat": 4,
 "nbformat_minor": 5
}
